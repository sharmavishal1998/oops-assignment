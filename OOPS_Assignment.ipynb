{
  "nbformat": 4,
  "nbformat_minor": 0,
  "metadata": {
    "colab": {
      "provenance": []
    },
    "kernelspec": {
      "name": "python3",
      "display_name": "Python 3"
    },
    "language_info": {
      "name": "python"
    }
  },
  "cells": [
    {
      "cell_type": "code",
      "execution_count": null,
      "metadata": {
        "id": "52Mj-P2vVIob"
      },
      "outputs": [],
      "source": [
        "#Question1- What are the five key concepts of Object-Oriented Programming (OOP)?\n",
        "#answer- the five key concepts of OOP are\n",
        "#1-class- Think of a class as a blueprint or template for making something. For example, a \"Car\" class tells you what features (like color, model) and actions (like drive, stop) every car can have.\n",
        "#2- Object-An object is a real thing made using the class blueprint. So, if \"Car\" is the class, a specific car (like your red Honda) is an object of that class.\n",
        "#3- Encapsulation- This is about wrapping the details of an object and hiding some parts from the outside world. It’s like having a TV remote: you can press buttons (methods), but you don’t need to know how the electronics inside work.\n",
        "#4- Inheritance- Inheritance is when one class gets features from another. If you have a class called \"Animal\" with legs and sound, a \"Dog\" class can inherit from it and automatically have legs and sound, without needing to redefine them.\n",
        "#5- Polymorphism- This means that different objects can use the same action in different ways. For example, both a \"Dog\" and a \"Cat\" can have a \"speak\" method, but a dog might bark, and a cat might meow.\n"
      ]
    },
    {
      "cell_type": "code",
      "source": [
        "#Question2- Write a Python class for a `Car` with attributes for `make`, `model`, and `year`. Include a method to display the cars's information.\n",
        "#Answer-Python class for a Car that includes attributes for make, model, and year, along with a method to display the car's information:\n",
        "class Car:\n",
        "    def __init__(self, make, model, year):          #The __init__ method initializes the car's make, model, and year.\n",
        "        self.make = make\n",
        "        self.model = model\n",
        "        self.year = year\n",
        "\n",
        "    def display_info(self):                          #The display_info method prints out the car's information in a formatted way\n",
        "        print(f\"Car Information: {self.year} {self.make} {self.model}\")\n",
        "\n",
        "car1 = Car(\"Toyota\", \"fortuner\", 2020)\n",
        "car1.display_info()\n",
        "\n",
        "\n",
        "\n"
      ],
      "metadata": {
        "colab": {
          "base_uri": "https://localhost:8080/"
        },
        "id": "mWkQAavVWeMQ",
        "outputId": "646e7dc3-b3b2-4902-92de-6bd7b2a42ad9"
      },
      "execution_count": 1,
      "outputs": [
        {
          "output_type": "stream",
          "name": "stdout",
          "text": [
            "Car Information: 2020 Toyota fortuner\n"
          ]
        }
      ]
    },
    {
      "cell_type": "code",
      "source": [
        "#Question3-  Explain the difference between instance methods and class methods. Provide an example of each.\n",
        "#Answer- Instance method- Works with a specific object (instance) of a class.The first argument is usually self, which refers to the individual object.If you have a car object, you can ask it to show its details (make, model, year) with an instance method.\n",
        "##class method- Works with the class itself, not with any specific object.The first argument is cls, which refers to the whole class.You can have a method that counts how many cars in total have been created, and it doesn't need to be tied to any specific car object.\n",
        "class Car:\n",
        "    total_cars = 0\n",
        "\n",
        "    def __init__(self, make, model, year):\n",
        "        self.make = make\n",
        "        self.model = model\n",
        "        self.year = year\n",
        "        Car.total_cars += 1\n",
        "\n",
        "\n",
        "    def display_info(self):   # Instance method (works with individual cars)\n",
        "        print(f\"This car is a {self.year} {self.make} {self.model}\")\n",
        "\n",
        "\n",
        "    @classmethod  # Class method (works with the whole Car class)\n",
        "    def total_car_count(cls):\n",
        "        print(f\"There are {cls.total_cars} cars created.\")\n",
        "\n",
        "car1 = Car(\"Toyota\", \"Camry\", 2020)\n",
        "car2 = Car(\"Honda\", \"Civic\", 2021)\n",
        "\n",
        "car1.display_info()  ## Call instance method\n",
        "Car.total_car_count()  # Call class method\n",
        "\n"
      ],
      "metadata": {
        "colab": {
          "base_uri": "https://localhost:8080/"
        },
        "id": "n8bFyD0EXLrz",
        "outputId": "7b88f6e6-b464-401d-ebc4-8b197296537f"
      },
      "execution_count": 11,
      "outputs": [
        {
          "output_type": "stream",
          "name": "stdout",
          "text": [
            "This car is a 2020 Toyota Camry\n",
            "There are 2 cars created.\n"
          ]
        }
      ]
    },
    {
      "cell_type": "code",
      "source": [
        "#Question4-  How does Python implement method overloading? Give an example.\n",
        "#Python doesn’t directly support method overloading like some other languages (such as Java or C++), where you can define multiple methods with the same name but different parameter types or numbers.\n",
        "#However, Python achieves a similar effect using default arguments or by handling arguments inside the method itself.\n",
        "#You can provide default values to method arguments so the method can be called with different numbers of arguments.\n",
        "#*args and **kwargs: You can accept a variable number of arguments and process them inside the method.\n",
        "\n",
        "class Calculator:\n",
        "\n",
        "    def add(self, a, b=0, c=0): # Method that works for different numbers of arguments\n",
        "        return a + b + c\n",
        "calc = Calculator()\n",
        "\n",
        "print(calc.add(5))        # Calling the method with 1 argument\n",
        "print(calc.add(5, 10))    # Calling the method with 2 arguments\n",
        "print(calc.add(5, 10, 15))  # Calling the method with 3 arguments\n",
        "#add method can take up to three arguments (a, b, and c), but b and c have default values of 0.\n",
        "#This allows you to call add with 1, 2, or 3 arguments, effectively simulating method overloading.\n",
        "\n",
        "#method overloading is handled more flexibly by making methods adaptable to different numbers or types of arguments\n",
        "# rather than defining multiple methods with the same name but different signatures.\n"
      ],
      "metadata": {
        "colab": {
          "base_uri": "https://localhost:8080/"
        },
        "id": "swUfa0eTYl7Z",
        "outputId": "f0709a15-00ed-48bd-f2a9-fcb5bdc0ee95"
      },
      "execution_count": 12,
      "outputs": [
        {
          "output_type": "stream",
          "name": "stdout",
          "text": [
            "5\n",
            "15\n",
            "30\n"
          ]
        }
      ]
    },
    {
      "cell_type": "code",
      "source": [
        "#Question5-What are the three types of access modifiers in Python? How are they denoted?\n",
        "#Answer\n",
        "#there are three types of access modifiers that control how class attributes (variables) and methods (functions) can be accessed from outside the class.\n",
        "# These are not as strict as in other languages, but Python uses conventions to denote them\n",
        "#public access modifier- Accessible from anywhere (inside and outside the class).\n",
        "#No special notation is used. Just name the variable or method normally.\n",
        "class Car:\n",
        "    def __init__(self, make):\n",
        "        self.make = make  # Public attribute\n",
        "\n",
        "car = Car(\"Toyota\")\n",
        "print(car.make)  # You can access this from outside\n",
        "\n",
        "#protected accesss modifier- Meant to be used within the class and its subclasses, but still accessible outside with a warning that it's for internal use.\n",
        "#Use a single underscore _ before the variable or method name.\n",
        "class Car:\n",
        "    def __init__(self, make):\n",
        "        self._engine_type = \"V8\"  # Protected attribute\n",
        "\n",
        "car = Car(\"Toyota\")\n",
        "print(car._engine_type)  # It's accessible but meant for internal use\n",
        "\n",
        "#private access modifier-Accessible only within the class, and Python \"mangles\" the name to make it harder to access from outside the class. But, it can still be accessed with some workarounds.\n",
        "#Use a double underscore __ before the variable or method name\n",
        "class Car:\n",
        "    def __init__(self, make):\n",
        "        self.__secret_code = \"12345\"  # Private attribute\n",
        "\n",
        "car = Car(\"Toyota\")\n",
        "# print(car.__secret_code)  # This will cause an error\n"
      ],
      "metadata": {
        "colab": {
          "base_uri": "https://localhost:8080/"
        },
        "id": "AH3kKp32bvxU",
        "outputId": "ba79ded9-ca39-4196-9590-be71a5108610"
      },
      "execution_count": 13,
      "outputs": [
        {
          "output_type": "stream",
          "name": "stdout",
          "text": [
            "Toyota\n",
            "V8\n"
          ]
        }
      ]
    },
    {
      "cell_type": "code",
      "source": [
        "#Question6-Describe the five types of inheritance in Python. Provide a simple example of multiple inheritance.\n",
        "##Answer- there are five types of inheritance, which allow a class to inherit attributes and methods from other classes.\n",
        "#Single Inheritance is a type of inheritance where a class (the child class) inherits from only one other class (the parent class).\n",
        "#This means the child class gains access to the attributes and methods of a single parent class, allowing for code reuse and extension.\n",
        "#Multiple Inheritance-is a type of inheritance where a class (the child class) inherits from more than one parent class.\n",
        "# This allows the child class to combine attributes and methods from multiple classes into a single class, enabling more complex and versatile designs.\n",
        "#multilevel inheritance- is a type of inheritance where a class (the grandchild class) inherits from another class (the child class), which in turn inherits from a third class (the grandparent class).\n",
        "# This creates a chain of inheritance where each class derives from the one before it.\n",
        "#Hierarchical Inheritance-is a type of inheritance where multiple classes (child classes) inherit from a single parent class.\n",
        "#This means that a single parent class is used as a base for multiple child classes, allowing them to share common functionality while also having their own unique features.\n",
        "#Hybrid Inheritance-is a combination of two or more types of inheritance, such as single inheritance, multiple inheritance, multilevel inheritance, or hierarchical inheritance.\n",
        "#It creates a more complex class hierarchy by mixing different inheritance patterns.\n",
        "class Engine:\n",
        "    def start(self):\n",
        "        print(\"Engine started\")\n",
        "\n",
        "class Wheels:\n",
        "    def rotate(self):\n",
        "        print(\"Wheels are rotating\")\n",
        "\n",
        "class Car(Engine, Wheels):  # Inherits from both Engine and Wheels\n",
        "    def drive(self):\n",
        "        print(\"Car is driving\")\n",
        "\n",
        "my_car = Car()      #create a car objent\n",
        "my_car.start()\n",
        "my_car.rotate()\n",
        "my_car.drive()\n"
      ],
      "metadata": {
        "colab": {
          "base_uri": "https://localhost:8080/"
        },
        "id": "EKEgwVKsdKPc",
        "outputId": "8a3d23d5-ce11-4f80-e1a7-568ab75ee88f"
      },
      "execution_count": 14,
      "outputs": [
        {
          "output_type": "stream",
          "name": "stdout",
          "text": [
            "Engine started\n",
            "Wheels are rotating\n",
            "Car is driving\n"
          ]
        }
      ]
    },
    {
      "cell_type": "code",
      "source": [
        "#Question7-What is the Method Resolution Order (MRO) in Python? How can you retrieve it programmatically?\n",
        "#Answer- it is the order in which base classes are searched when a method is called on an instance of a class. It determines the sequence in which the methods are inherited from the parent classes, especially in the case of multiple inheritance.\n",
        "#Search Sequence: MRO defines the sequence in which base classes are looked up for a method\n",
        "#C3 Linearization: Python uses the C3 linearization algorithm to compute the MRO. This algorithm ensures that the base classes are visited in a consistent and predictable order.\n",
        "class A:\n",
        "    def method(self):\n",
        "        print(\"Method in A\")\n",
        "\n",
        "class B(A):\n",
        "    def method(self):\n",
        "        print(\"Method in B\")\n",
        "\n",
        "class C(A):\n",
        "    def method(self):\n",
        "        print(\"Method in C\")\n",
        "\n",
        "class D(B, C):\n",
        "    pass\n",
        "\n",
        "d = D()\n",
        "d.method()  # Output: Method in B\n",
        "\n",
        "#D inherits from B and C, both of which inherit from A\n",
        "#D’s MRO will be [D, B, C, A]\n",
        "\n",
        "print(D.__mro__) #retrieving MRO programatically\n",
        "print(D.mro())\n",
        "\n",
        "\n"
      ],
      "metadata": {
        "colab": {
          "base_uri": "https://localhost:8080/"
        },
        "id": "6-8bLtVZjhro",
        "outputId": "f26610c1-58d7-4b1f-a9fc-3d43e5d7d294"
      },
      "execution_count": 15,
      "outputs": [
        {
          "output_type": "stream",
          "name": "stdout",
          "text": [
            "Method in B\n",
            "(<class '__main__.D'>, <class '__main__.B'>, <class '__main__.C'>, <class '__main__.A'>, <class 'object'>)\n",
            "[<class '__main__.D'>, <class '__main__.B'>, <class '__main__.C'>, <class '__main__.A'>, <class 'object'>]\n"
          ]
        }
      ]
    },
    {
      "cell_type": "code",
      "source": [
        "#Question8-Create an abstract base class `Shape` with an abstract method `area()`. Then create two subclasses`Circle` and `Rectangle` that implement the `area()` method.\n",
        "#Answer- an abstract base class (ABC) is a class that contains one or more abstract methods. An abstract method is a method that is declared, but contains no implementation\n",
        "from abc import ABC, abstractmethod\n",
        "import math\n",
        "\n",
        "class Shape(ABC):   ## Abstract base class\n",
        "    @abstractmethod    ## Abstract method that must be implemented by subclasses\n",
        "    def area(self):\n",
        "        pass\n",
        "\n",
        "class Circle(Shape):      ## Subclass Circle that implements the area method\n",
        "    def __init__(self, radius):\n",
        "        self.radius = radius\n",
        "\n",
        "    # Implementing the area method\n",
        "    def area(self):\n",
        "        return math.pi * self.radius ** 2\n",
        "\n",
        "class Rectangle(Shape):   # Subclass Rectangle that implements the area method\n",
        "    def __init__(self, width, height):\n",
        "        self.width = width\n",
        "        self.height = height\n",
        "\n",
        "    def area(self):    ## Implementing the area method\n",
        "        return self.width * self.height\n",
        "\n",
        "circle = Circle(5)   ## Create instances of Circle and Rectangle\n",
        "rectangle = Rectangle(4, 6)\n",
        "\n",
        "# Print the areas\n",
        "print(f\"Area of the circle: {circle.area()}\")\n",
        "print(f\"Area of the rectangle: {rectangle.area()}\")\n"
      ],
      "metadata": {
        "colab": {
          "base_uri": "https://localhost:8080/"
        },
        "id": "0PjU6fwRkv7M",
        "outputId": "9423fce2-e202-4e6a-f5a2-0db9035e85c1"
      },
      "execution_count": 1,
      "outputs": [
        {
          "output_type": "stream",
          "name": "stdout",
          "text": [
            "Area of the circle: 78.53981633974483\n",
            "Area of the rectangle: 24\n"
          ]
        }
      ]
    },
    {
      "cell_type": "code",
      "source": [
        "#Question9-Demonstrate polymorphism by creating a function that can work with different shape objects to calculate and print their areas\n",
        "#Polymorphism in object-oriented programming refers to the ability of different classes to be treated as instances of the same base class.\n",
        "#It allows objects of different types to be accessed through the same interface, typically by calling the same method, and each object responds according to its specific implementation. This is a key feature of OOP because it promotes flexibility and reuse of code.\n",
        "# Base class Animal\n",
        "class Animal:\n",
        "    def sound(self):\n",
        "        pass  # This method will be overridden by subclasses\n",
        "\n",
        "class Dog(Animal):\n",
        "    def sound(self):\n",
        "        return \"Woof!\"\n",
        "\n",
        "class Cat(Animal):\n",
        "    def sound(self):\n",
        "        return \"Meow!\"\n",
        "\n",
        "class Cow(Animal):\n",
        "    def sound(self):\n",
        "        return \"Moo!\"\n",
        "\n",
        "def make_sound(animal):   ## Function that works with any animal object\n",
        "    print(f\"The animal makes: {animal.sound()}\")\n",
        "\n",
        "dog = Dog()  ## Create animal objects\n",
        "cat = Cat()\n",
        "cow = Cow()\n",
        "\n",
        "make_sound(dog)     ## Call the function for different animals\n",
        "make_sound(cat)\n",
        "make_sound(cow)\n",
        "\n"
      ],
      "metadata": {
        "colab": {
          "base_uri": "https://localhost:8080/"
        },
        "id": "lOByp-Nyjy-U",
        "outputId": "a925797c-ca3e-4b40-eedf-c65b6c7f7885"
      },
      "execution_count": 2,
      "outputs": [
        {
          "output_type": "stream",
          "name": "stdout",
          "text": [
            "The animal makes: Woof!\n",
            "The animal makes: Meow!\n",
            "The animal makes: Moo!\n"
          ]
        }
      ]
    },
    {
      "cell_type": "code",
      "source": [
        "#Question10- Implement encapsulation in a `BankAccount` class with private attributes for `balance` and `account_number`. Include methods for deposit, withdrawal, and balance inquiry.\n",
        "#Answer- Encapsulation is a fundamental concept in object-oriented programming (OOP) that restricts access to certain attributes of an object.\n",
        "#In Python, we can make an attribute private by prefixing it with two underscores (__).\n",
        "class BankAccount:\n",
        "    def __init__(self, account_number, initial_balance=0):\n",
        "        self.__account_number = account_number   # Private attributes\n",
        "        self.__balance = initial_balance\n",
        "\n",
        "    def deposit(self, amount):   # Method to deposit money\n",
        "        if amount > 0:\n",
        "            self.__balance += amount\n",
        "            print(f\"Deposited: ${amount}\")\n",
        "        else:\n",
        "            print(\"Deposit amount must be positive.\")\n",
        "\n",
        "    def withdraw(self, amount):   # Method to withdraw money\n",
        "        if 0 < amount <= self.__balance:\n",
        "            self.__balance -= amount\n",
        "            print(f\"Withdrew: ${amount}\")\n",
        "        else:\n",
        "            print(\"Insufficient funds or invalid amount.\")\n",
        "\n",
        "    def get_balance(self):   ## Method to inquire balance\n",
        "        return self.__balance\n",
        "\n",
        "    def get_account_number(self):   ## Method to display account information\n",
        "        return self.__account_number\n",
        "\n",
        "account = BankAccount(\"123456789\", 1000)    #bank account object\n",
        "account.deposit(500)    # Output: Deposited: $500     #deposit\n",
        "account.withdraw(300)   # Output: Withdrew: $300      #withdraw\n",
        "print(f\"Balance: ${account.get_balance()}\")\n",
        "\n",
        "print(f\"Account Number: {account.get_account_number()}\")\n"
      ],
      "metadata": {
        "colab": {
          "base_uri": "https://localhost:8080/"
        },
        "id": "VroC7XiSlK7_",
        "outputId": "af0bd5eb-747a-4b97-9aec-74a56ad32ff6"
      },
      "execution_count": 3,
      "outputs": [
        {
          "output_type": "stream",
          "name": "stdout",
          "text": [
            "Deposited: $500\n",
            "Withdrew: $300\n",
            "Balance: $1200\n",
            "Account Number: 123456789\n"
          ]
        }
      ]
    },
    {
      "cell_type": "code",
      "source": [
        "#Question11-Write a class that overrides the `__str__` and `__add__` magic methods. What will these methods allow you to do?\n",
        "#Answer-magic methods (also called dunder methods) are special methods that begin and end with double underscores (__). By overriding these methods, you can define how your objects behave in specific situations. Two commonly overridden magic methods are:\n",
        "#__str__: This method defines how the object is represented as a string\n",
        "#__add__: This method defines the behavior of the + operator for objects of the class\n",
        "#__str__: This method will allow you to control the string representation of your object, making it more user-friendly when printed\n",
        "#__add__: This method will allow you to define how two objects of your class are added together using the + operator\n",
        "class Book:\n",
        "    def __init__(self, title, pages):\n",
        "        self.title = title\n",
        "        self.pages = pages\n",
        "\n",
        "    def __str__(self):    ## Overriding __str__ method\n",
        "        return f\"Book: {self.title}, Pages: {self.pages}\"\n",
        "\n",
        "    def __add__(self, other):  ## Overriding __add__ method\n",
        "        return self.pages + other.pages  # Adding the number of pages of two books\n",
        "\n",
        "book1 = Book(\"Python Basics\", 300)   ## Creating two Book objects\n",
        "book2 = Book(\"Advanced Python\", 450)\n",
        "\n",
        "print(book1)  # Using the overridden __str__ method\n",
        "print(book2)\n",
        "\n",
        "total_pages = book1 + book2  # Using the overridden __add__ method\n",
        "print(f\"Total pages: {total_pages}\")\n"
      ],
      "metadata": {
        "colab": {
          "base_uri": "https://localhost:8080/"
        },
        "id": "DCUD07dcmaIA",
        "outputId": "aa26cfe4-469e-4117-a784-2f25bf979444"
      },
      "execution_count": 4,
      "outputs": [
        {
          "output_type": "stream",
          "name": "stdout",
          "text": [
            "Book: Python Basics, Pages: 300\n",
            "Book: Advanced Python, Pages: 450\n",
            "Total pages: 750\n"
          ]
        }
      ]
    },
    {
      "cell_type": "code",
      "source": [
        "#Question12- Create a decorator that measures and prints the execution time of a function.\n",
        "#Answer-A decorator is a function that wraps another function to modify its behavior.\n",
        "import time\n",
        "def measure_time(func):  ## Decorator to measure execution time\n",
        "    def wrapper(*args, **kwargs):\n",
        "        start_time = time.time()  # Record the start time\n",
        "        result = func(*args, **kwargs)  # Call the actual function\n",
        "        end_time = time.time()  # Record the end time\n",
        "        execution_time = end_time - start_time  # Calculate the execution time\n",
        "        print(f\"Execution time of {func.__name__}: {execution_time:.6f} seconds\")\n",
        "        return result\n",
        "    return wrapper\n",
        "@measure_time\n",
        "def slow_function():\n",
        "    time.sleep(2)  # Simulate a slow function with a 2-second delay\n",
        "    print(\"Function completed.\")\n",
        "slow_function()   #call the decorated function\n"
      ],
      "metadata": {
        "colab": {
          "base_uri": "https://localhost:8080/"
        },
        "id": "YOjBWGNinavI",
        "outputId": "7a221ea7-6333-4c5d-d59f-4c2f6d1501ee"
      },
      "execution_count": 5,
      "outputs": [
        {
          "output_type": "stream",
          "name": "stdout",
          "text": [
            "Function completed.\n",
            "Execution time of slow_function: 2.002995 seconds\n"
          ]
        }
      ]
    },
    {
      "cell_type": "code",
      "source": [
        "#Question13- Explain the concept of the Diamond Problem in multiple inheritance. How does Python resolve it?\n",
        "#Answer- The Diamond Problem is a situation that occurs in multiple inheritance where a class inherits from two classes that both inherit from the same base class. This creates a diamond-shaped inheritance diagram,\n",
        "# and the problem arises when the derived class needs to decide which version of a method from the common base class to use.\n",
        "#Python uses a method resolution order (MRO) algorithm to handle the Diamond Problem. Specifically, Python uses an algorithm called C3 Linearization.\n",
        "#how python resolves it\n",
        "#Linearization: Python creates a linear order for the classes based on their inheritance hierarchy.\n",
        "#MRO: The MRO defines the order in which base classes are looked up when searching for a method or attribute.\n",
        "class A:\n",
        "    def hello(self):\n",
        "        print(\"Hello from A\")\n",
        "\n",
        "class B(A):\n",
        "    def hello(self):\n",
        "        print(\"Hello from B\")\n",
        "\n",
        "class C(A):\n",
        "    def hello(self):\n",
        "        print(\"Hello from C\")\n",
        "\n",
        "class D(B, C):\n",
        "    pass\n",
        "\n",
        "d = D()\n",
        "d.hello()\n",
        "\n",
        "#Python computes the MRO of class D using the C3 linearization algorithm\n",
        "#The MRO for class D in this case is [D, B, C, A].\n",
        "#When looking up a method, Python follows this order. Therefore, D uses B's hello() method because B appears before C in the MRO\n"
      ],
      "metadata": {
        "colab": {
          "base_uri": "https://localhost:8080/"
        },
        "id": "0vkI3AqioLN-",
        "outputId": "cd416ed7-2f52-469e-da98-9380ff5ba936"
      },
      "execution_count": 6,
      "outputs": [
        {
          "output_type": "stream",
          "name": "stdout",
          "text": [
            "Hello from B\n"
          ]
        }
      ]
    },
    {
      "cell_type": "code",
      "source": [
        "#Question14-Write a class method that keeps track of the number of instances created from a class\n",
        "#Answer-\n",
        "class InstanceCounter:  #Class attribute to keep track of the number of instances\n",
        "    instance_count = 0\n",
        "\n",
        "    def __init__(self):\n",
        "        InstanceCounter.instance_count += 1   # Increment the count whenever a new instance is created\n",
        "\n",
        "    @classmethod\n",
        "    def get_instance_count(cls):\n",
        "        return cls.instance_count   # Return the count of instances\n",
        "\n",
        "obj1 = InstanceCounter()   # Creating instances\n",
        "obj2 = InstanceCounter()\n",
        "obj3 = InstanceCounter()\n",
        "\n",
        "print(f\"Number of instances created: {InstanceCounter.get_instance_count()}\")   # Getting the count of instances\n"
      ],
      "metadata": {
        "colab": {
          "base_uri": "https://localhost:8080/"
        },
        "id": "__DoGKyWpX8Z",
        "outputId": "171a9d03-5c35-4941-c576-56653f554649"
      },
      "execution_count": 8,
      "outputs": [
        {
          "output_type": "stream",
          "name": "stdout",
          "text": [
            "Number of instances created: 3\n"
          ]
        }
      ]
    },
    {
      "cell_type": "code",
      "source": [
        "#Question15-Implement a static method in a class that checks if a given year is a leap year.\n",
        "#Answer-implementation of a static method that checks if a given year is a leap year.\n",
        "class DateUtils:\n",
        "    @staticmethod\n",
        "    def is_leap_year(year):\n",
        "        \"\"\"\n",
        "        Determine if a given year is a leap year.\n",
        "\n",
        "        :param year: The year to check.\n",
        "        :return: True if the year is a leap year, False otherwise.\n",
        "        \"\"\"\n",
        "        if (year % 4 == 0):\n",
        "            if (year % 100 == 0):\n",
        "                if (year % 400 == 0):\n",
        "                    return True\n",
        "                else:\n",
        "                    return False\n",
        "            else:\n",
        "                return True\n",
        "        else:\n",
        "            return False\n",
        "year = 2024\n",
        "print(f\"Year {year} is a leap year: {DateUtils.is_leap_year(year)}\")\n",
        "year = 1900\n",
        "print(f\"Year {year} is a leap year: {DateUtils.is_leap_year(year)}\")\n"
      ],
      "metadata": {
        "colab": {
          "base_uri": "https://localhost:8080/"
        },
        "id": "WyV3-TI7ptOX",
        "outputId": "387f707c-6e50-4136-b4e9-ab33e3858123"
      },
      "execution_count": 9,
      "outputs": [
        {
          "output_type": "stream",
          "name": "stdout",
          "text": [
            "Year 2024 is a leap year: True\n",
            "Year 1900 is a leap year: False\n"
          ]
        }
      ]
    }
  ]
}